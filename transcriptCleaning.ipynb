{
 "cells": [
  {
   "cell_type": "code",
   "execution_count": null,
   "metadata": {},
   "outputs": [],
   "source": [
    "! pip install pandas\n",
    "! pip install numpy"
   ]
  },
  {
   "cell_type": "code",
   "execution_count": null,
   "metadata": {},
   "outputs": [],
   "source": [
    "import pandas as pd\n",
    "import numpy as np\n",
    "\n",
    "\n",
    "\n",
    "\n",
    "df = pd.read_csv(\"transcript_first_2022.csv\", delimiter = \",\", engine = \"python\")\n",
    "df[\"Unnamed: 0\"][9999]"
   ]
  },
  {
   "cell_type": "code",
   "execution_count": null,
   "metadata": {},
   "outputs": [],
   "source": [
    "\n",
    "text = []\n",
    "\n",
    "for i in range(0, 9998):\n",
    "    thing = \"\"\n",
    "\n",
    "    for col in range(0, 88):\n",
    "        thing = ( str(thing) + str(str(df.iloc[:, col][i])  + \" \"))\n",
    "        thing2 = thing.replace(\"nan \", \"\")\n",
    "        #if (thing2[len(thing2) -1] == \" \"):\n",
    "        #    thing2 = thing2[:-1]\n",
    "    text.append(thing2)\n",
    "\n",
    "text\n"
   ]
  },
  {
   "cell_type": "code",
   "execution_count": null,
   "metadata": {},
   "outputs": [],
   "source": [
    "newdf = pd.DataFrame(text, columns = ['text'])\n",
    "\n",
    "#newdf.to_csv('transcript_combined.csv')"
   ]
  },
  {
   "cell_type": "code",
   "execution_count": null,
   "metadata": {},
   "outputs": [],
   "source": [
    "#Combing thru the data\n",
    "\n",
    "newdf['text'][0]\n",
    "texts = newdf['text']\n",
    "\n",
    "length = len(newdf.index)\n",
    "\n",
    "\n",
    "\n",
    "\n",
    "for i in range(0, length - 1):\n",
    "    curr = (length-1) - i \n",
    "    currtext = texts[curr]\n",
    "    if(currtext == \"\"):\n",
    "        newdf.drop(curr, inplace = True)\n",
    "        print(\"bob\")\n",
    "    elif (currtext.split()[0] == \"Operator:\"):\n",
    "        newdf.drop(curr, inplace = True)\n",
    "        print(\"bob2\")"
   ]
  },
  {
   "cell_type": "code",
   "execution_count": null,
   "metadata": {},
   "outputs": [],
   "source": [
    "newdf.reset_index(drop=True, inplace = True)\n",
    "newdf"
   ]
  },
  {
   "cell_type": "code",
   "execution_count": null,
   "metadata": {},
   "outputs": [],
   "source": [
    "#newdf.to_csv('transcript_combined2.csv')\n",
    "\n",
    "len(newdf.index)\n",
    "newdf['text'][8241]"
   ]
  },
  {
   "cell_type": "code",
   "execution_count": null,
   "metadata": {},
   "outputs": [],
   "source": [
    "start = len(newdf.index) -1\n",
    "stop = len(newdf.index) - 1\n",
    "i = len(newdf.index) - 1\n",
    "\n",
    "texts = newdf['text']\n",
    "\n",
    "companyarr = []\n",
    "speecharr = []\n",
    "ceoarr = []\n",
    "\n",
    "while i >= 0:\n",
    "    if (texts[i].split()[0].isdigit()):\n",
    "        if ((int(texts[i].split()[0]) <= 237)):\n",
    "            stop = start\n",
    "            start = i\n",
    "            company_name = texts[start].split()[1]\n",
    "            \n",
    "            #find out who the ceo is: \n",
    "            \n",
    "            namelist = []\n",
    "            occurtimes = []\n",
    "\n",
    "            for loc in range(start + 1, stop):\n",
    "                if (len(texts[loc].split()) >= 2):\n",
    "                    #print(loc)\n",
    "                    #print(texts[loc])\n",
    "                    name = texts[loc].split()[1]\n",
    "                    if name in namelist:\n",
    "                        index = namelist.index(name)\n",
    "                        occurtimes[index] = occurtimes[index] + 1\n",
    "                    if name not in namelist:\n",
    "                        namelist.append(name)\n",
    "                        occurtimes.append(1)\n",
    "            print(company_name)    \n",
    "            if (len(occurtimes) >= 2):\n",
    "                maxind = occurtimes.index(max(occurtimes))\n",
    "                ceo = namelist[maxind]\n",
    "                print(ceo)\n",
    "\n",
    "                textstring = \"\"\n",
    "                for bob in range(start + 1, stop):\n",
    "                    if (len(texts[bob].split()) >= 2):\n",
    "                        if (texts[bob].split()[1] == ceo):\n",
    "                            newtext = texts[bob].split()\n",
    "\n",
    "                            newtext =  \" \".join(newtext[2:])\n",
    "                            \n",
    "                            textstring += newtext\n",
    "\n",
    "                companyarr.append(company_name)\n",
    "                speecharr.append(textstring)\n",
    "                ceoarr.append(ceo)\n",
    "    i = i - 1\n",
    "\n",
    "\n"
   ]
  },
  {
   "cell_type": "code",
   "execution_count": null,
   "metadata": {},
   "outputs": [],
   "source": [
    "finaldf = pd.DataFrame()\n",
    "finaldf['ticker'] = np.flip(np.array(companyarr))\n",
    "finaldf['ceo'] = np.flip(np.array(ceoarr))\n",
    "finaldf['text'] = np.flip(np.array(speecharr))\n",
    "\n",
    "finaldf.to_csv(\"transcript_final.csv\")\n",
    "#finaldf = pd.DataFrame(finalarr, columns = ['ticker', 'name', 'text'])"
   ]
  }
 ],
 "metadata": {
  "kernelspec": {
   "display_name": "Python (GPU)",
   "language": "python",
   "name": "pytorch"
  },
  "language_info": {
   "codemirror_mode": {
    "name": "ipython",
    "version": 3
   },
   "file_extension": ".py",
   "mimetype": "text/x-python",
   "name": "python",
   "nbconvert_exporter": "python",
   "pygments_lexer": "ipython3",
   "version": "3.10.11"
  },
  "orig_nbformat": 4
 },
 "nbformat": 4,
 "nbformat_minor": 2
}

{
 "cells": [
  {
   "cell_type": "code",
   "execution_count": null,
   "metadata": {},
   "outputs": [],
   "source": [
    "! pip install transformers datasets evaluate\n",
    "! pip install torch torchvision\n",
    "! pip install tokenizers\n",
    "! pip3 install emoji==0.6.0\n",
    "! pip install -U accelerate\n",
    "! pip install -U transformers\n",
    "! pip install pandas\n",
    "! pip install numpy\n",
    "! pip install scikit-learn\n",
    "! pip install bertviz\n",
    "! pip install jupyterlab\n",
    "! pip install ipywidgets"
   ]
  },
  {
   "cell_type": "code",
   "execution_count": null,
   "metadata": {},
   "outputs": [],
   "source": [
    "import pandas as pd\n",
    "df = pd.read_csv(\"transcript_final.csv\", engine = \"python\")"
   ]
  },
  {
   "cell_type": "code",
   "execution_count": null,
   "metadata": {},
   "outputs": [],
   "source": [
    "from transformers import pipeline\n",
    "\n",
    "pipe = pipeline(model = \"SporkyToast/binary-fully-trained-tweet\")\n",
    "pipe(\"\")"
   ]
  },
  {
   "cell_type": "code",
   "execution_count": null,
   "metadata": {},
   "outputs": [],
   "source": [
    "result = pipe(\"I am incredible\")\n",
    "\n",
    "print(result[0])\n",
    "\n",
    "res_final = result[0]['label'] + \" \" + str(result[0]['score'])\n",
    "\n",
    "print(res_final)"
   ]
  },
  {
   "cell_type": "code",
   "execution_count": null,
   "metadata": {},
   "outputs": [],
   "source": [
    "scoresarray = []\n",
    "maxscores = []\n",
    "length = len(df.index)\n",
    "\n",
    "#length = 15\n",
    "for i in range(0, 3):\n",
    "\n",
    "    str_length = len(df['text'][i].split())\n",
    "    #print(str_length)\n",
    "    num_runs = int(str_length/128) + 1\n",
    "    runningscore = 0\n",
    "    maxscore = -15\n",
    "    for run in range(0, num_runs):\n",
    "        start = 0 + 128 * run\n",
    "        stop = 128 + start\n",
    "\n",
    "        if (stop > str_length):\n",
    "            stop = str_length\n",
    "        \n",
    "        this_slice = df['text'][i][start:stop]\n",
    "        result = pipe(this_slice)\n",
    "        score = result[0]['score']\n",
    "        \n",
    "        if(result[0]['label'] == 'NOT'):\n",
    "            score = (1 - score)\n",
    "\n",
    "        runningscore = runningscore + score\n",
    "\n",
    "        if(score > maxscore):\n",
    "            maxscore = score\n",
    "    \n",
    "    finalscore = runningscore/num_runs\n",
    "\n",
    "    scoresarray.append(finalscore)\n",
    "    maxscores.append(maxscore)\n",
    "\n",
    "scoresarray\n"
   ]
  },
  {
   "cell_type": "code",
   "execution_count": null,
   "metadata": {},
   "outputs": [],
   "source": [
    "print(maxscores)"
   ]
  },
  {
   "cell_type": "code",
   "execution_count": null,
   "metadata": {},
   "outputs": [],
   "source": [
    "import numpy as np"
   ]
  },
  {
   "cell_type": "code",
   "execution_count": null,
   "metadata": {},
   "outputs": [],
   "source": [
    "df['average_scores'] = np.array(scoresarray)\n",
    "df['maximum_scores'] = np.array(maxscores)\n",
    "\n",
    "df.to_csv(\"scores.csv\")"
   ]
  }
 ],
 "metadata": {
  "kernelspec": {
   "display_name": "Python (GPU)",
   "language": "python",
   "name": "pytorch"
  },
  "language_info": {
   "codemirror_mode": {
    "name": "ipython",
    "version": 3
   },
   "file_extension": ".py",
   "mimetype": "text/x-python",
   "name": "python",
   "nbconvert_exporter": "python",
   "pygments_lexer": "ipython3",
   "version": "3.10.11"
  },
  "orig_nbformat": 4
 },
 "nbformat": 4,
 "nbformat_minor": 2
}

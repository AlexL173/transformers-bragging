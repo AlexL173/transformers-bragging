{
 "cells": [
  {
   "cell_type": "code",
   "execution_count": null,
   "metadata": {},
   "outputs": [],
   "source": [
    "! pip install transformers datasets evaluate\n",
    "! pip install torch torchvision\n",
    "! pip install tokenizers\n",
    "! pip3 install emoji==0.6.0\n",
    "! pip install -U accelerate\n",
    "! pip install -U transformers\n",
    "! pip install pandas\n",
    "! pip install numpy\n",
    "! pip install scikit-learn\n",
    "! pip install bertviz\n",
    "! pip install jupyterlab\n",
    "! pip install ipywidgets"
   ]
  },
  {
   "cell_type": "code",
   "execution_count": null,
   "metadata": {},
   "outputs": [],
   "source": [
    "from transformers import AutoTokenizer, AutoModel, utils\n",
    "utils.logging.set_verbosity_error()  # Suppress standard warnings\n",
    "tokenizer = AutoTokenizer.from_pretrained(\"SporkyToast/binary-fully-trained\")\n",
    "model = AutoModel.from_pretrained(\"SporkyToast/binary-fully-trained\", output_attentions=True)"
   ]
  },
  {
   "cell_type": "code",
   "execution_count": null,
   "metadata": {},
   "outputs": [],
   "source": [
    "import pandas as pd\n",
    "import numpy as np\n",
    "\n",
    "\n",
    "df = pd.read_csv(\"confirmed_bragging.csv\", engine = \"python\")\n",
    "\n",
    "i = 18\n",
    "inputstuff = df['text']\n",
    "inputstuff[i]"
   ]
  },
  {
   "cell_type": "code",
   "execution_count": null,
   "metadata": {},
   "outputs": [],
   "source": [
    "\n",
    "inputs = tokenizer.encode(inputstuff[i], return_tensors='pt')\n",
    "outputs = model(inputs)\n",
    "attention = outputs[-1]  # Output includes attention weights when output_attentions=True\n",
    "tokens = tokenizer.convert_ids_to_tokens(inputs[0]) \n",
    "from bertviz import head_view, model_view\n",
    "head_view(attention, tokens,include_layers=[10, 11])"
   ]
  },
  {
   "cell_type": "code",
   "execution_count": null,
   "metadata": {},
   "outputs": [],
   "source": [
    "\n"
   ]
  }
 ],
 "metadata": {
  "kernelspec": {
   "display_name": "Python (GPU)",
   "language": "python",
   "name": "pytorch"
  },
  "language_info": {
   "codemirror_mode": {
    "name": "ipython",
    "version": 3
   },
   "file_extension": ".py",
   "mimetype": "text/x-python",
   "name": "python",
   "nbconvert_exporter": "python",
   "pygments_lexer": "ipython3",
   "version": "3.10.11"
  },
  "orig_nbformat": 4
 },
 "nbformat": 4,
 "nbformat_minor": 2
}

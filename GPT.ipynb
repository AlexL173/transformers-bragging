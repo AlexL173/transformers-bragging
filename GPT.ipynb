{
 "cells": [
  {
   "cell_type": "code",
   "execution_count": null,
   "metadata": {},
   "outputs": [],
   "source": [
    "! pip install transformers datasets evaluate\n",
    "! pip install torch torchvision\n",
    "! pip install tokenizers\n",
    "! pip3 install emoji==0.6.0\n",
    "! pip install -U accelerate\n",
    "! pip install -U transformers\n",
    "! pip install pandas\n",
    "! pip install numpy\n",
    "! pip install scikit-learn\n",
    "! pip install openai"
   ]
  },
  {
   "cell_type": "code",
   "execution_count": null,
   "metadata": {},
   "outputs": [],
   "source": [
    "import pandas as pd\n",
    "import numpy as np\n",
    "\n",
    "\n",
    "df = pd.read_csv(\"bragging_data.csv\", engine = \"python\")\n",
    "\n",
    "from sklearn.model_selection import train_test_split\n",
    "\n",
    "df['label'].replace(['not', 'achievement', 'action', 'feeling', 'trait', 'possession', 'affiliation'], [0, 1,1,1,1,1,1], inplace = True)\n",
    "df.drop(labels = [\"id\", \"sampling\", \"round\"], axis = 1, inplace = True)\n",
    "train, test = train_test_split(df, test_size=0.5, random_state = 5)\n",
    "\n",
    "promptarr = df['text'].to_list()\n",
    "\n"
   ]
  },
  {
   "cell_type": "code",
   "execution_count": null,
   "metadata": {},
   "outputs": [],
   "source": [
    "import time\n",
    "import os\n",
    "import openai\n",
    "\n",
    "\n",
    "openai.api_key = os.getenv('API_KEY')\n",
    "print(openai.api_key)"
   ]
  },
  {
   "cell_type": "code",
   "execution_count": null,
   "metadata": {},
   "outputs": [],
   "source": [
    "texts = []\n",
    "answers = []\n",
    "\n",
    "few_shot_training = train.groupby(\"label\").head(2)\n",
    "few_shot_training\n",
    "# bragging: 6686, 5317\n",
    "# not bragging: 6615, 3380\n"
   ]
  },
  {
   "cell_type": "code",
   "execution_count": null,
   "metadata": {},
   "outputs": [],
   "source": [
    "for i in range (1, 200):\n",
    "    \n",
    "    messages = [({\"role\": \"system\", \"content\": \"You classify whether or not tweets contain bragging\"})]\n",
    "    messages.append({\"role\": \"system\", \"content\": \"This tweet contains bragging:\" + few_shot_training['text'][6686]})\n",
    "    messages.append({\"role\": \"system\", \"content\": \"This tweet contains bragging:\" + few_shot_training['text'][5317]})\n",
    "    messages.append({\"role\": \"system\", \"content\": \"This tweet does not contain bragging:\" + few_shot_training['text'][6615]})\n",
    "    messages.append({\"role\": \"system\", \"content\": \"This tweet does not contain bragging:\" + few_shot_training['text'][3380]})\n",
    "\n",
    "    content = \"Does this tweet contain bragging? respond with '1' if yes or '0' if no. tweet: [\" + promptarr[i] + \"]\"\n",
    "    print(content)\n",
    "    messages.append({\"role\": \"user\", \"content\": content})\n",
    "    completion = openai.ChatCompletion.create(\n",
    "        model=\"gpt-3.5-turbo\",\n",
    "        messages = messages\n",
    "    )\n",
    "\n",
    "    \n",
    "    response = completion\n",
    "    texts.append(content)\n",
    "    answers.append(completion.choices[0].message.content)\n",
    "    print(answers)\n",
    "    time.sleep(30)\n"
   ]
  },
  {
   "cell_type": "code",
   "execution_count": null,
   "metadata": {},
   "outputs": [],
   "source": [
    "#print(texts)\n",
    "#print(answers)\n",
    "\n",
    "textarr = np.array(texts)\n",
    "answersarr = np.array(answers)\n",
    "\n",
    "dataset = pd.DataFrame({'label': answersarr, 'text': textarr}, columns = ['label', 'text'])\n",
    "dataset\n",
    "dataset.to_csv('GPT3fewshotGuess.csv')"
   ]
  },
  {
   "cell_type": "code",
   "execution_count": null,
   "metadata": {},
   "outputs": [],
   "source": [
    "#gpt3\n",
    "\n",
    "guesses3 = pd.read_csv(\"GPT3zeroshotGuess.csv\", engine = \"python\")\n",
    "\n",
    "labelpred = guesses3['label']\n",
    "\n",
    "real = df['label'].head(200)\n",
    "\n",
    "mask = labelpred == real\n",
    "\n",
    "numcorrect = sum(mask)\n",
    "\n",
    "zeroshot = numcorrect/200\n",
    "\n",
    "#gpt3 few shot\n",
    "\n",
    "guesses4 = pd.read_csv(\"GPT3fewshotGuess.csv\", engine = \"python\")\n",
    "\n",
    "labelpred2 = guesses4['label']\n",
    "\n",
    "real2 = df['label'].head(163)\n",
    "\n",
    "mask2 = labelpred2 == real2\n",
    "\n",
    "numcorrect2 = sum(mask2)\n",
    "\n",
    "fewshot = numcorrect2/163\n",
    "\n",
    "print(zeroshot)\n",
    "print(fewshot)\n",
    "\n",
    "#labelpred2"
   ]
  }
 ],
 "metadata": {
  "kernelspec": {
   "display_name": "Python (GPU)",
   "language": "python",
   "name": "pytorch"
  },
  "language_info": {
   "codemirror_mode": {
    "name": "ipython",
    "version": 3
   },
   "file_extension": ".py",
   "mimetype": "text/x-python",
   "name": "python",
   "nbconvert_exporter": "python",
   "pygments_lexer": "ipython3",
   "version": "3.10.11"
  },
  "orig_nbformat": 4
 },
 "nbformat": 4,
 "nbformat_minor": 2
}

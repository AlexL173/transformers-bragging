{
 "cells": [
  {
   "attachments": {},
   "cell_type": "markdown",
   "metadata": {},
   "source": [
    "Models compared: \n",
    "\n",
    "GPT - OpenAI (Model TBD)\n",
    "BART - Facebook\n",
    "My model (pretrained)"
   ]
  },
  {
   "cell_type": "code",
   "execution_count": null,
   "metadata": {},
   "outputs": [],
   "source": [
    "#Import information \n",
    "\n",
    "! pip install transformers datasets evaluate\n",
    "! pip install torch torchvision\n",
    "! pip install tokenizers\n",
    "! pip3 install emoji==0.6.0\n",
    "! pip install -U accelerate\n",
    "! pip install -U transformers\n",
    "! pip install pandas\n",
    "! pip install numpy\n",
    "! pip install sklearn\n",
    "! pip install scikit-learn"
   ]
  },
  {
   "cell_type": "code",
   "execution_count": null,
   "metadata": {},
   "outputs": [],
   "source": [
    "#Required Huggingface login\n",
    "\n",
    "\n",
    "from huggingface_hub import notebook_login\n",
    "\n",
    "notebook_login()"
   ]
  },
  {
   "cell_type": "code",
   "execution_count": null,
   "metadata": {},
   "outputs": [],
   "source": [
    "#Check if GPU is working\n",
    "\n",
    "if torch.cuda.is_available():\n",
    "  device = torch.device('cuda:0')\n",
    "  print('Running on the GPU')\n",
    "else:\n",
    "  device = torch.device('cpu')\n",
    "  print('Running on the CPU')\n",
    "\n",
    "device"
   ]
  },
  {
   "cell_type": "code",
   "execution_count": null,
   "metadata": {},
   "outputs": [],
   "source": [
    "#Important imports\n",
    "import torch\n",
    "from transformers import AutoModel, AutoTokenizer, pipeline\n",
    "from datasets import load_dataset\n",
    "\n",
    "\n",
    "\n",
    "#Loading dataset (bragging)\n",
    "import pandas as pd\n",
    "\n",
    "\n",
    "df = pd.read_csv(\"bragging_data.csv\", engine = \"python\")\n",
    "\n",
    "from sklearn.model_selection import train_test_split\n",
    "\n",
    "\n",
    "df['label'].replace(['not', 'achievement', 'action', 'feeling', 'trait', 'possession', 'affiliation'], [0, 1,1,1,1,1,1], inplace = True)\n",
    "df.drop(labels = [\"id\", \"sampling\", \"round\"], axis = 1, inplace = True)\n",
    "train, test = train_test_split(df, test_size=0.5)\n",
    "\n",
    "from datasets import Dataset\n",
    "\n",
    "training = Dataset.from_pandas(train, preserve_index = False)\n",
    "testing = Dataset.from_pandas(test, preserve_index = False)"
   ]
  },
  {
   "attachments": {},
   "cell_type": "markdown",
   "metadata": {},
   "source": [
    "https://huggingface.co/docs/evaluate/base_evaluator"
   ]
  },
  {
   "cell_type": "code",
   "execution_count": null,
   "metadata": {},
   "outputs": [],
   "source": [
    "from datasets import load_dataset\n",
    "from evaluate import evaluator\n",
    "from transformers import AutoModelForSequenceClassification, pipeline\n",
    "\n",
    "pipe = pipeline(model=\"facebook/bart-large-mnli\")\n",
    "pipe(\"I have a problem with my iphone that needs to be resolved asap!\",\n",
    "    candidate_labels=[\"urgent\", \"not urgent\", \"phone\", \"tablet\", \"computer\"],\n",
    ")\n"
   ]
  }
 ],
 "metadata": {
  "kernelspec": {
   "display_name": "Python (GPU)",
   "language": "python",
   "name": "pytorch"
  },
  "language_info": {
   "codemirror_mode": {
    "name": "ipython",
    "version": 3
   },
   "file_extension": ".py",
   "mimetype": "text/x-python",
   "name": "python",
   "nbconvert_exporter": "python",
   "pygments_lexer": "ipython3",
   "version": "3.10.11"
  },
  "orig_nbformat": 4
 },
 "nbformat": 4,
 "nbformat_minor": 2
}
